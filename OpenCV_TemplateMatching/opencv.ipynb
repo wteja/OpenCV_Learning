{
 "cells": [
  {
   "cell_type": "code",
   "execution_count": 34,
   "metadata": {},
   "outputs": [
    {
     "name": "stdout",
     "output_type": "stream",
     "text": [
      "Defaulting to user installation because normal site-packages is not writeable\n",
      "Requirement already satisfied: opencv-python in c:\\users\\itthirit\\appdata\\roaming\\python\\python311\\site-packages (4.9.0.80)\n",
      "Requirement already satisfied: numpy>=1.21.2 in c:\\users\\itthirit\\appdata\\roaming\\python\\python311\\site-packages (from opencv-python) (1.26.4)\n",
      "Note: you may need to restart the kernel to use updated packages.\n"
     ]
    }
   ],
   "source": [
    "pip install opencv-python"
   ]
  },
  {
   "cell_type": "code",
   "execution_count": 35,
   "metadata": {},
   "outputs": [],
   "source": [
    "import cv2\n",
    "import numpy as np"
   ]
  },
  {
   "cell_type": "code",
   "execution_count": 37,
   "metadata": {},
   "outputs": [],
   "source": [
    "farm_img = cv2.imread(\"farm.png\", cv2.IMREAD_UNCHANGED)\n",
    "wheat_img = cv2.imread(\"needle.png\", cv2.IMREAD_UNCHANGED)"
   ]
  },
  {
   "cell_type": "code",
   "execution_count": 50,
   "metadata": {},
   "outputs": [],
   "source": [
    "cv2.imshow(\"Farm\", farm_img)\n",
    "cv2.waitKey()\n",
    "cv2.destroyAllWindows()"
   ]
  },
  {
   "cell_type": "code",
   "execution_count": 24,
   "metadata": {},
   "outputs": [],
   "source": [
    "cv2.imshow(\"Needle\", wheat_img)\n",
    "cv2.waitKey()\n",
    "cv2.destroyAllWindows()"
   ]
  },
  {
   "cell_type": "code",
   "execution_count": 25,
   "metadata": {},
   "outputs": [],
   "source": [
    "result = cv2.matchTemplate(farm_img, wheat_img, cv2.TM_CCOEFF_NORMED)"
   ]
  },
  {
   "cell_type": "code",
   "execution_count": 26,
   "metadata": {},
   "outputs": [],
   "source": [
    "cv2.imshow(\"Result\", result)\n",
    "cv2.waitKey()\n",
    "cv2.destroyAllWindows()"
   ]
  },
  {
   "cell_type": "code",
   "execution_count": 27,
   "metadata": {},
   "outputs": [],
   "source": [
    "min_val, max_val, min_loc, max_loc = cv2.minMaxLoc(result)"
   ]
  },
  {
   "cell_type": "code",
   "execution_count": 28,
   "metadata": {},
   "outputs": [
    {
     "data": {
      "text/plain": [
       "(731, 301)"
      ]
     },
     "execution_count": 28,
     "metadata": {},
     "output_type": "execute_result"
    }
   ],
   "source": [
    "max_loc"
   ]
  },
  {
   "cell_type": "code",
   "execution_count": 29,
   "metadata": {},
   "outputs": [
    {
     "data": {
      "text/plain": [
       "0.999998927116394"
      ]
     },
     "execution_count": 29,
     "metadata": {},
     "output_type": "execute_result"
    }
   ],
   "source": [
    "max_val"
   ]
  },
  {
   "cell_type": "code",
   "execution_count": 30,
   "metadata": {},
   "outputs": [],
   "source": [
    "w = wheat_img.shape[1]\n",
    "h = wheat_img.shape[0]"
   ]
  },
  {
   "cell_type": "code",
   "execution_count": 31,
   "metadata": {},
   "outputs": [
    {
     "data": {
      "text/plain": [
       "array([[[ 37, 114,  84],\n",
       "        [ 55, 130, 102],\n",
       "        [ 38, 110,  77],\n",
       "        ...,\n",
       "        [ 67, 111,  27],\n",
       "        [ 67, 111,  27],\n",
       "        [ 53, 111,  18]],\n",
       "\n",
       "       [[ 36, 121,  78],\n",
       "        [ 38, 110,  77],\n",
       "        [ 38, 110,  77],\n",
       "        ...,\n",
       "        [ 67, 111,  27],\n",
       "        [ 67, 111,  27],\n",
       "        [ 67, 111,  27]],\n",
       "\n",
       "       [[ 48, 165, 109],\n",
       "        [ 50, 158,  96],\n",
       "        [ 36, 121,  78],\n",
       "        ...,\n",
       "        [ 67, 111,  27],\n",
       "        [ 67, 111,  27],\n",
       "        [ 66, 124,  25]],\n",
       "\n",
       "       ...,\n",
       "\n",
       "       [[172,  93,  14],\n",
       "        [172,  93,  14],\n",
       "        [172,  93,  14],\n",
       "        ...,\n",
       "        [169, 214, 237],\n",
       "        [171, 216, 239],\n",
       "        [172, 217, 240]],\n",
       "\n",
       "       [[173,  94,  15],\n",
       "        [173,  94,  15],\n",
       "        [172,  93,  14],\n",
       "        ...,\n",
       "        [172, 217, 240],\n",
       "        [172, 217, 240],\n",
       "        [173, 215, 239]],\n",
       "\n",
       "       [[173,  94,  15],\n",
       "        [173,  94,  15],\n",
       "        [172,  93,  14],\n",
       "        ...,\n",
       "        [172, 214, 238],\n",
       "        [173, 215, 239],\n",
       "        [173, 215, 239]]], dtype=uint8)"
      ]
     },
     "execution_count": 31,
     "metadata": {},
     "output_type": "execute_result"
    }
   ],
   "source": [
    "cv2.rectangle(farm_img, max_loc, (max_loc[0] + w, max_loc[1] + h), (0, 255, 255), 2)"
   ]
  },
  {
   "cell_type": "code",
   "execution_count": 39,
   "metadata": {},
   "outputs": [],
   "source": [
    "threshold = .60"
   ]
  },
  {
   "cell_type": "code",
   "execution_count": 40,
   "metadata": {},
   "outputs": [],
   "source": [
    "yloc, xloc = np.where(result >= threshold)"
   ]
  },
  {
   "cell_type": "code",
   "execution_count": 41,
   "metadata": {},
   "outputs": [
    {
     "data": {
      "text/plain": [
       "13"
      ]
     },
     "execution_count": 41,
     "metadata": {},
     "output_type": "execute_result"
    }
   ],
   "source": [
    "len(xloc)"
   ]
  },
  {
   "cell_type": "code",
   "execution_count": 42,
   "metadata": {},
   "outputs": [],
   "source": [
    "for (x, y) in zip(xloc, yloc):\n",
    "    cv2.rectangle(farm_img, (x, y), (x + w, y + h), (0, 255, 255), 2)"
   ]
  },
  {
   "cell_type": "code",
   "execution_count": 44,
   "metadata": {},
   "outputs": [],
   "source": [
    "rectangles = []\n",
    "for (x, y) in zip(xloc, yloc):\n",
    "    rectangles.append([int(x), int(y), int(w), int(h)])\n",
    "    rectangles.append([int(x), int(y), int(w), int(h)])"
   ]
  },
  {
   "cell_type": "code",
   "execution_count": 46,
   "metadata": {},
   "outputs": [
    {
     "data": {
      "text/plain": [
       "26"
      ]
     },
     "execution_count": 46,
     "metadata": {},
     "output_type": "execute_result"
    }
   ],
   "source": [
    "len(rectangles)"
   ]
  },
  {
   "cell_type": "code",
   "execution_count": 47,
   "metadata": {},
   "outputs": [],
   "source": [
    "rectangles, weights = cv2.groupRectangles(rectangles, 1, 0.2)"
   ]
  },
  {
   "cell_type": "code",
   "execution_count": 48,
   "metadata": {},
   "outputs": [
    {
     "data": {
      "text/plain": [
       "5"
      ]
     },
     "execution_count": 48,
     "metadata": {},
     "output_type": "execute_result"
    }
   ],
   "source": [
    "len(rectangles)"
   ]
  },
  {
   "cell_type": "code",
   "execution_count": 49,
   "metadata": {},
   "outputs": [],
   "source": [
    "for (x, y, w, h) in rectangles:\n",
    "    cv2.rectangle(farm_img, (x, y), (x + w, y + h), (0, 255, 255), 2)"
   ]
  },
  {
   "cell_type": "code",
   "execution_count": null,
   "metadata": {},
   "outputs": [],
   "source": []
  }
 ],
 "metadata": {
  "kernelspec": {
   "display_name": "Python 3",
   "language": "python",
   "name": "python3"
  },
  "language_info": {
   "codemirror_mode": {
    "name": "ipython",
    "version": 3
   },
   "file_extension": ".py",
   "mimetype": "text/x-python",
   "name": "python",
   "nbconvert_exporter": "python",
   "pygments_lexer": "ipython3",
   "version": "3.11.4"
  }
 },
 "nbformat": 4,
 "nbformat_minor": 2
}
